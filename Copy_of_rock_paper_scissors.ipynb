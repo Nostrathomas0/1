{
  "nbformat": 4,
  "nbformat_minor": 0,
  "metadata": {
    "kernelspec": {
      "display_name": "Python 3",
      "language": "python",
      "name": "python3"
    },
    "language_info": {
      "codemirror_mode": {
        "name": "ipython",
        "version": 3
      },
      "file_extension": ".py",
      "mimetype": "text/x-python",
      "name": "python",
      "nbconvert_exporter": "python",
      "pygments_lexer": "ipython3",
      "version": "3.7.2"
    },
    "colab": {
      "name": "Copy of rock-paper-scissors.ipynb",
      "provenance": [],
      "collapsed_sections": [],
      "include_colab_link": true
    }
  },
  "cells": [
    {
      "cell_type": "markdown",
      "metadata": {
        "id": "view-in-github",
        "colab_type": "text"
      },
      "source": [
        "<a href=\"https://colab.research.google.com/github/Nostrathomas0/1/blob/master/Copy_of_rock_paper_scissors.ipynb\" target=\"_parent\"><img src=\"https://colab.research.google.com/assets/colab-badge.svg\" alt=\"Open In Colab\"/></a>"
      ]
    },
    {
      "cell_type": "markdown",
      "metadata": {
        "id": "bhjhsgfavqZj",
        "colab_type": "text"
      },
      "source": [
        "<img src=\"https://bit.ly/2VnXWr2\" width=\"100\" align=\"left\">"
      ]
    },
    {
      "cell_type": "markdown",
      "metadata": {
        "id": "1t6UTkaBvqZo",
        "colab_type": "text"
      },
      "source": [
        "# Rock, Paper & Scissors\n",
        "\n",
        "Let's play the famous game against our computer. You can check the rules [here](https://en.wikipedia.org/wiki/Rock%E2%80%93paper%E2%80%93scissors). \n",
        "\n",
        "## Task\n",
        "Create a program that imitates the playability of the well known game of rock, paper, scissors. Follow the guidelines provided.\n",
        "\n",
        "## Tools\n",
        "1. Loop: **for/while**\n",
        "2. Functions: **input(), print()...**\n",
        "3. Conditional statements: **if, elif, else**\n",
        "4. Definition of functions. Modular programming\n",
        "5. Import modules\n",
        "\n",
        "**To solve this challenge, the use of functions is recommended.**\n",
        "\n",
        "#### 1. Import the choice function of the random module."
      ]
    },
    {
      "cell_type": "code",
      "metadata": {
        "id": "eCExbKZLvqaI",
        "colab_type": "code",
        "colab": {}
      },
      "source": [
        "from random import choice\n"
      ],
      "execution_count": 0,
      "outputs": []
    },
    {
      "cell_type": "markdown",
      "metadata": {
        "id": "wUk_FU-7vqaq",
        "colab_type": "text"
      },
      "source": [
        "#### 2. Create a list that includes the 3 possible gesture options of the game: 'rock', 'paper' or 'scissors'. Store the list in a variable called `gestures`."
      ]
    },
    {
      "cell_type": "code",
      "metadata": {
        "id": "VzH8R5zkvqaw",
        "colab_type": "code",
        "colab": {}
      },
      "source": [
        "gestures = [\"rock\", \"paper\", \"scissors\"]\n",
        "\n",
        "\n"
      ],
      "execution_count": 0,
      "outputs": []
    },
    {
      "cell_type": "markdown",
      "metadata": {
        "id": "5wwW19Yzvqa-",
        "colab_type": "text"
      },
      "source": [
        "#### 3. Create a variable called `n_rounds` to store the maximum number of rounds to play in a game. \n",
        "Remember that the number of rounds must be odd: 1, 3, 5, ..."
      ]
    },
    {
      "cell_type": "code",
      "metadata": {
        "id": "_3Enf5D8vqbB",
        "colab_type": "code",
        "outputId": "642cc77a-257b-4b9f-b5b5-d359733171a9",
        "colab": {
          "base_uri": "https://localhost:8080/",
          "height": 53
        }
      },
      "source": [
        "def recursiveinput():\n",
        "  n_rounds = input(\"How many games to win?\")\n",
        "  if (int(n_rounds) % 2) == 1:\n",
        "    return n_rounds\n",
        "  else: \n",
        "    print(\"We must play an odd number of games to win\")\n",
        "    return recursiveinput()\n",
        "    \n",
        "recursiveinput()"
      ],
      "execution_count": 94,
      "outputs": [
        {
          "output_type": "stream",
          "text": [
            "How many games to win?3\n"
          ],
          "name": "stdout"
        },
        {
          "output_type": "execute_result",
          "data": {
            "text/plain": [
              "'3'"
            ]
          },
          "metadata": {
            "tags": []
          },
          "execution_count": 94
        }
      ]
    },
    {
      "cell_type": "markdown",
      "metadata": {
        "id": "GKmuHBGDvqbU",
        "colab_type": "text"
      },
      "source": [
        "#### 4. Create a variable called `rounds_to_win` to store the number of rounds that a player must win to win the game.\n",
        "**Hint**: the value stored in `rounds_to_win` depends on the value of `n_rounds`. "
      ]
    },
    {
      "cell_type": "code",
      "metadata": {
        "id": "9284kqNQvqbX",
        "colab_type": "code",
        "colab": {}
      },
      "source": [
        "rounds_to_win = n_rounds"
      ],
      "execution_count": 0,
      "outputs": []
    },
    {
      "cell_type": "markdown",
      "metadata": {
        "id": "YcXOeS2Gvqbr",
        "colab_type": "text"
      },
      "source": [
        "#### 5. Create two variables to store the number of rounds that the computer and the player have won. Call these variables `cpu_score` and `player_score`."
      ]
    },
    {
      "cell_type": "code",
      "metadata": {
        "id": "6U3Px9Hnvqbz",
        "colab_type": "code",
        "colab": {}
      },
      "source": [
        "cpu_score = 0\n",
        "player_score = 0"
      ],
      "execution_count": 0,
      "outputs": []
    },
    {
      "cell_type": "markdown",
      "metadata": {
        "id": "rERnH1s0vqcA",
        "colab_type": "text"
      },
      "source": [
        "#### 6. Define a function that randomly returns one of the 3 gesture options.\n",
        "You will use this function to simulate the gesture choice of the computer. "
      ]
    },
    {
      "cell_type": "code",
      "metadata": {
        "id": "ocwpZ09GvqcD",
        "colab_type": "code",
        "colab": {
          "base_uri": "https://localhost:8080/",
          "height": 35
        },
        "outputId": "26f3dce6-d2a7-4337-a870-4715483071cd"
      },
      "source": [
        "computer = choice(gestures)\n",
        "print(computer)"
      ],
      "execution_count": 97,
      "outputs": [
        {
          "output_type": "stream",
          "text": [
            "paper\n"
          ],
          "name": "stdout"
        }
      ]
    },
    {
      "cell_type": "markdown",
      "metadata": {
        "id": "6k3qPeIvvqcX",
        "colab_type": "text"
      },
      "source": [
        "#### 7. Define a function that asks the player which is the gesture he or she wants to show: 'rock', 'paper' or 'scissors'.\n",
        "The player should only be allowed to choose one of the 3 gesture options. If the player's choice is not rock, paper or scissors, keep asking until it is."
      ]
    },
    {
      "cell_type": "code",
      "metadata": {
        "id": "knCynBXpvqca",
        "colab_type": "code",
        "colab": {}
      },
      "source": [
        "# player_throw = input(\"what do you throw? rock, scissors or paper\") "
      ],
      "execution_count": 0,
      "outputs": []
    },
    {
      "cell_type": "markdown",
      "metadata": {
        "id": "_fp0piCjvqcr",
        "colab_type": "text"
      },
      "source": [
        "#### 8. Define a function that checks who won a round. \n",
        "The function should return 0 if there is a tie, 1 if the computer wins and 2 if the player wins."
      ]
    },
    {
      "cell_type": "code",
      "metadata": {
        "id": "fs7YtY8bvqcu",
        "colab_type": "code",
        "colab": {
          "base_uri": "https://localhost:8080/",
          "height": 89
        },
        "outputId": "c56d4c1b-0776-4f18-b724-5f98a1dfbe6f"
      },
      "source": [
        "while (cpu_score < rounds_to_win) and (player_score < rounds_to_win):\n",
        "  player_throw = input(\"what do you throw? rock, scissors or paper\") \n",
        "  if player_throw == computer:\n",
        "        print(\"Tie!\")\n",
        "  elif player_throw == \"rock\":\n",
        "    if computer == \"paper\":\n",
        "            print(\"You lose!\", computer, \"covers\", player_throw)\n",
        "            cpu_score += 1\n",
        "    else:\n",
        "            print(\"You win!\", player_throw, \"smashes\", computer)\n",
        "            player_score += 1\n",
        "  elif player_throw == \"paper\":\n",
        "    if computer == \"scissors\":\n",
        "            print(\"You lose!\", computer, \"cut\", player_throw)\n",
        "            cpu_score += 1\n",
        "    else:\n",
        "            print(\"You win!\", player_throw, \"covers\", computer)\n",
        "            player_score += 1\n",
        "  elif player_throw == \"scissors\":\n",
        "        if computer == \"rock\":\n",
        "            print(\"You lose...\", computer, \"smashes\", player_throw)\n",
        "            cpu_score += 1\n",
        "        else:\n",
        "            print(\"You win!\", player_throw, \"cut\", computer)\n",
        "            player_score += 1\n",
        "  else:\n",
        "        print(\"hmm try not capitalizing the first letter\")"
      ],
      "execution_count": 99,
      "outputs": [
        {
          "output_type": "stream",
          "text": [
            "what do you throw? rock, scissors or paperpaper\n",
            "Tie!\n",
            "what do you throw? rock, scissors or paperrock\n",
            "You lose! paper covers rock\n"
          ],
          "name": "stdout"
        }
      ]
    },
    {
      "cell_type": "markdown",
      "metadata": {
        "id": "tPPo26-Wvqc7",
        "colab_type": "text"
      },
      "source": [
        "#### 9. Define a function that prints the choice of the computer, the choice of the player and a message that announces who won the current round. \n",
        "You should also use this function to update the variables that count the number of rounds that the computer and the player have won. The score of the winner increases by one point. If there is a tie, the score does not increase."
      ]
    },
    {
      "cell_type": "code",
      "metadata": {
        "id": "wczqQw9cvqc8",
        "colab_type": "code",
        "colab": {
          "base_uri": "https://localhost:8080/",
          "height": 53
        },
        "outputId": "75a0a87c-c681-4f7f-a83e-bdbc575d7a44"
      },
      "source": [
        "print(cpu_score)\n",
        "print(player_score)"
      ],
      "execution_count": 100,
      "outputs": [
        {
          "output_type": "stream",
          "text": [
            "1\n",
            "0\n"
          ],
          "name": "stdout"
        }
      ]
    },
    {
      "cell_type": "markdown",
      "metadata": {
        "id": "gUrH9GfkvqdC",
        "colab_type": "text"
      },
      "source": [
        "#### 10. Now it's time to code the execution of the game using the functions and variables you defined above. \n",
        "\n",
        "First, create a loop structure that repeats while no player reaches the minimum score necessary to win and the number of rounds is less than the maximum number of rounds to play in a game.  \n",
        "\n",
        "Inside the loop, use the functions and variables above to create the execution of a round: ask for the player's choice, generate the random choice of the computer, show the round results, update the scores, etc. "
      ]
    },
    {
      "cell_type": "code",
      "metadata": {
        "id": "sGdhLWZyvqdE",
        "colab_type": "code",
        "colab": {}
      },
      "source": [
        ""
      ],
      "execution_count": 0,
      "outputs": []
    },
    {
      "cell_type": "markdown",
      "metadata": {
        "id": "9zDcaKxhvqdS",
        "colab_type": "text"
      },
      "source": [
        "#### 11. Print the winner of the game based on who won more rounds.\n",
        "Remember that the game might be tied. "
      ]
    },
    {
      "cell_type": "code",
      "metadata": {
        "id": "uEJXnIUyvqdT",
        "colab_type": "code",
        "colab": {}
      },
      "source": [
        ""
      ],
      "execution_count": 0,
      "outputs": []
    },
    {
      "cell_type": "markdown",
      "metadata": {
        "id": "CjyeSsLVvqdl",
        "colab_type": "text"
      },
      "source": [
        "# Bonus: Rock, Paper, Scissors, Lizard & Spock\n",
        "![](https://github.com/hannahkusama/data-prework/blob/master/1.-Python/6.-Rock%E2%80%93Paper%E2%80%93Scissors/images/rpsls.jpg?raw=1)\n",
        "\n",
        "In this challenge, you need to improve the previous game by adding two new options. To know more about the rules of the improved version of rock, paper, scissors, check this [link](http://www.samkass.com/theories/RPSSL.html). \n",
        "\n",
        "In addition, you will also need to improve how the game interacts with the player: the number of rounds to play, which must be an odd number, will be requested to the user until a valid number is entered. Define a new function to make that request.\n",
        "\n",
        "**Hint**: Try to reuse the code that you already coded in the previous challenge. If your code is efficient, this bonus will only consist of simple modifications to the original game."
      ]
    },
    {
      "cell_type": "code",
      "metadata": {
        "id": "05HSaHzBvqdq",
        "colab_type": "code",
        "colab": {}
      },
      "source": [
        ""
      ],
      "execution_count": 0,
      "outputs": []
    }
  ]
}